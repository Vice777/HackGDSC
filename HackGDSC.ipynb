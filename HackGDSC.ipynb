{
 "cells": [
  {
   "cell_type": "code",
   "execution_count": 1,
   "id": "fb1e2930",
   "metadata": {},
   "outputs": [],
   "source": [
    "import numpy as np # linear algebra\n",
    "import pandas as pd # data processing, CSV file I/O (e.g. pd.read_csv)\n",
    "import matplotlib.pyplot as plt\n",
    "import seaborn as sns"
   ]
  },
  {
   "cell_type": "code",
   "execution_count": 2,
   "id": "9cc1b7f4",
   "metadata": {},
   "outputs": [
    {
     "data": {
      "text/html": [
       "<div>\n",
       "<style scoped>\n",
       "    .dataframe tbody tr th:only-of-type {\n",
       "        vertical-align: middle;\n",
       "    }\n",
       "\n",
       "    .dataframe tbody tr th {\n",
       "        vertical-align: top;\n",
       "    }\n",
       "\n",
       "    .dataframe thead th {\n",
       "        text-align: right;\n",
       "    }\n",
       "</style>\n",
       "<table border=\"1\" class=\"dataframe\">\n",
       "  <thead>\n",
       "    <tr style=\"text-align: right;\">\n",
       "      <th></th>\n",
       "      <th>Year</th>\n",
       "      <th>Month</th>\n",
       "      <th>Day</th>\n",
       "      <th>Hour</th>\n",
       "      <th>Minute</th>\n",
       "      <th>Clearsky DHI</th>\n",
       "      <th>Clearsky DNI</th>\n",
       "      <th>Clearsky GHI</th>\n",
       "      <th>Cloud Type</th>\n",
       "      <th>Dew Point</th>\n",
       "      <th>Temperature</th>\n",
       "      <th>Pressure</th>\n",
       "      <th>Relative Humidity</th>\n",
       "      <th>Solar Zenith Angle</th>\n",
       "      <th>Precipitable Water</th>\n",
       "      <th>Wind Direction</th>\n",
       "      <th>Wind Speed</th>\n",
       "      <th>Fill Flag</th>\n",
       "    </tr>\n",
       "  </thead>\n",
       "  <tbody>\n",
       "    <tr>\n",
       "      <th>0</th>\n",
       "      <td>2009</td>\n",
       "      <td>1</td>\n",
       "      <td>1</td>\n",
       "      <td>0</td>\n",
       "      <td>0</td>\n",
       "      <td>0</td>\n",
       "      <td>0</td>\n",
       "      <td>0</td>\n",
       "      <td>0</td>\n",
       "      <td>0.0</td>\n",
       "      <td>5.0</td>\n",
       "      <td>1010</td>\n",
       "      <td>75.34</td>\n",
       "      <td>106.15</td>\n",
       "      <td>0.499</td>\n",
       "      <td>346.1</td>\n",
       "      <td>3.1</td>\n",
       "      <td>0</td>\n",
       "    </tr>\n",
       "    <tr>\n",
       "      <th>1</th>\n",
       "      <td>2009</td>\n",
       "      <td>1</td>\n",
       "      <td>1</td>\n",
       "      <td>0</td>\n",
       "      <td>30</td>\n",
       "      <td>0</td>\n",
       "      <td>0</td>\n",
       "      <td>0</td>\n",
       "      <td>0</td>\n",
       "      <td>1.0</td>\n",
       "      <td>5.0</td>\n",
       "      <td>1010</td>\n",
       "      <td>80.81</td>\n",
       "      <td>112.28</td>\n",
       "      <td>0.490</td>\n",
       "      <td>346.1</td>\n",
       "      <td>3.1</td>\n",
       "      <td>0</td>\n",
       "    </tr>\n",
       "    <tr>\n",
       "      <th>2</th>\n",
       "      <td>2009</td>\n",
       "      <td>1</td>\n",
       "      <td>1</td>\n",
       "      <td>1</td>\n",
       "      <td>0</td>\n",
       "      <td>0</td>\n",
       "      <td>0</td>\n",
       "      <td>0</td>\n",
       "      <td>4</td>\n",
       "      <td>0.0</td>\n",
       "      <td>5.0</td>\n",
       "      <td>1010</td>\n",
       "      <td>78.27</td>\n",
       "      <td>118.50</td>\n",
       "      <td>0.482</td>\n",
       "      <td>347.9</td>\n",
       "      <td>3.2</td>\n",
       "      <td>0</td>\n",
       "    </tr>\n",
       "    <tr>\n",
       "      <th>3</th>\n",
       "      <td>2009</td>\n",
       "      <td>1</td>\n",
       "      <td>1</td>\n",
       "      <td>1</td>\n",
       "      <td>30</td>\n",
       "      <td>0</td>\n",
       "      <td>0</td>\n",
       "      <td>0</td>\n",
       "      <td>4</td>\n",
       "      <td>0.0</td>\n",
       "      <td>4.0</td>\n",
       "      <td>1010</td>\n",
       "      <td>78.27</td>\n",
       "      <td>124.78</td>\n",
       "      <td>0.478</td>\n",
       "      <td>347.9</td>\n",
       "      <td>3.1</td>\n",
       "      <td>0</td>\n",
       "    </tr>\n",
       "    <tr>\n",
       "      <th>4</th>\n",
       "      <td>2009</td>\n",
       "      <td>1</td>\n",
       "      <td>1</td>\n",
       "      <td>2</td>\n",
       "      <td>0</td>\n",
       "      <td>0</td>\n",
       "      <td>0</td>\n",
       "      <td>0</td>\n",
       "      <td>4</td>\n",
       "      <td>0.0</td>\n",
       "      <td>4.0</td>\n",
       "      <td>1010</td>\n",
       "      <td>76.45</td>\n",
       "      <td>131.12</td>\n",
       "      <td>0.475</td>\n",
       "      <td>350.0</td>\n",
       "      <td>3.0</td>\n",
       "      <td>0</td>\n",
       "    </tr>\n",
       "  </tbody>\n",
       "</table>\n",
       "</div>"
      ],
      "text/plain": [
       "   Year  Month  Day  Hour  Minute  Clearsky DHI  Clearsky DNI  Clearsky GHI  \\\n",
       "0  2009      1    1     0       0             0             0             0   \n",
       "1  2009      1    1     0      30             0             0             0   \n",
       "2  2009      1    1     1       0             0             0             0   \n",
       "3  2009      1    1     1      30             0             0             0   \n",
       "4  2009      1    1     2       0             0             0             0   \n",
       "\n",
       "   Cloud Type  Dew Point  Temperature  Pressure  Relative Humidity  \\\n",
       "0           0        0.0          5.0      1010              75.34   \n",
       "1           0        1.0          5.0      1010              80.81   \n",
       "2           4        0.0          5.0      1010              78.27   \n",
       "3           4        0.0          4.0      1010              78.27   \n",
       "4           4        0.0          4.0      1010              76.45   \n",
       "\n",
       "   Solar Zenith Angle  Precipitable Water  Wind Direction  Wind Speed  \\\n",
       "0              106.15               0.499           346.1         3.1   \n",
       "1              112.28               0.490           346.1         3.1   \n",
       "2              118.50               0.482           347.9         3.2   \n",
       "3              124.78               0.478           347.9         3.1   \n",
       "4              131.12               0.475           350.0         3.0   \n",
       "\n",
       "   Fill Flag  \n",
       "0          0  \n",
       "1          0  \n",
       "2          0  \n",
       "3          0  \n",
       "4          0  "
      ]
     },
     "execution_count": 2,
     "metadata": {},
     "output_type": "execute_result"
    }
   ],
   "source": [
    "data = pd.read_csv('train.csv')\n",
    "data.head()"
   ]
  },
  {
   "cell_type": "code",
   "execution_count": 3,
   "id": "66a16dcb",
   "metadata": {},
   "outputs": [],
   "source": [
    "def format_date(value):\n",
    "    if len(str(value)) != 2:\n",
    "        return '0' + str(value)\n",
    "    else:\n",
    "        return str(value)\n",
    "\n",
    "data['Date'] = pd.to_datetime(pd.DataFrame({\n",
    "                    'year': data.Year,\n",
    "                   'month': data.Month,\n",
    "                   'day': data.Day,\n",
    "                    'minute': (data.Hour * 60 + data.Minute)\n",
    "                }))\n",
    "data = data.drop(['Year','Month','Day','Hour','Minute'], axis=1)"
   ]
  },
  {
   "cell_type": "code",
   "execution_count": 4,
   "id": "7a3cd9f3",
   "metadata": {},
   "outputs": [
    {
     "data": {
      "image/png": "[encoded data removed]",
      "text/plain": [
       "<Figure size 864x720 with 2 Axes>"
      ]
     },
     "metadata": {
      "needs_background": "light"
     },
     "output_type": "display_data"
    }
   ],
   "source": [
    "plt.figure(figsize=(12, 10))\n",
    "sns.heatmap(data.corr().abs(), annot=True)\n",
    "plt.show()"
   ]
  },
  {
   "cell_type": "code",
   "execution_count": 5,
   "id": "768a20bb",
   "metadata": {},
   "outputs": [
    {
     "data": {
      "text/html": [
       "<div>\n",
       "<style scoped>\n",
       "    .dataframe tbody tr th:only-of-type {\n",
       "        vertical-align: middle;\n",
       "    }\n",
       "\n",
       "    .dataframe tbody tr th {\n",
       "        vertical-align: top;\n",
       "    }\n",
       "\n",
       "    .dataframe thead th {\n",
       "        text-align: right;\n",
       "    }\n",
       "</style>\n",
       "<table border=\"1\" class=\"dataframe\">\n",
       "  <thead>\n",
       "    <tr style=\"text-align: right;\">\n",
       "      <th></th>\n",
       "      <th>Clearsky DHI</th>\n",
       "      <th>Clearsky DNI</th>\n",
       "      <th>Dew Point</th>\n",
       "      <th>Temperature</th>\n",
       "      <th>Pressure</th>\n",
       "      <th>Relative Humidity</th>\n",
       "      <th>Solar Zenith Angle</th>\n",
       "      <th>Precipitable Water</th>\n",
       "      <th>Wind Speed</th>\n",
       "      <th>Date</th>\n",
       "    </tr>\n",
       "  </thead>\n",
       "  <tbody>\n",
       "    <tr>\n",
       "      <th>0</th>\n",
       "      <td>0</td>\n",
       "      <td>0</td>\n",
       "      <td>0.0</td>\n",
       "      <td>5.0</td>\n",
       "      <td>1010</td>\n",
       "      <td>75.34</td>\n",
       "      <td>106.15</td>\n",
       "      <td>0.499</td>\n",
       "      <td>3.1</td>\n",
       "      <td>2009-01-01 00:00:00</td>\n",
       "    </tr>\n",
       "    <tr>\n",
       "      <th>1</th>\n",
       "      <td>0</td>\n",
       "      <td>0</td>\n",
       "      <td>1.0</td>\n",
       "      <td>5.0</td>\n",
       "      <td>1010</td>\n",
       "      <td>80.81</td>\n",
       "      <td>112.28</td>\n",
       "      <td>0.490</td>\n",
       "      <td>3.1</td>\n",
       "      <td>2009-01-01 00:30:00</td>\n",
       "    </tr>\n",
       "    <tr>\n",
       "      <th>2</th>\n",
       "      <td>0</td>\n",
       "      <td>0</td>\n",
       "      <td>0.0</td>\n",
       "      <td>5.0</td>\n",
       "      <td>1010</td>\n",
       "      <td>78.27</td>\n",
       "      <td>118.50</td>\n",
       "      <td>0.482</td>\n",
       "      <td>3.2</td>\n",
       "      <td>2009-01-01 01:00:00</td>\n",
       "    </tr>\n",
       "    <tr>\n",
       "      <th>3</th>\n",
       "      <td>0</td>\n",
       "      <td>0</td>\n",
       "      <td>0.0</td>\n",
       "      <td>4.0</td>\n",
       "      <td>1010</td>\n",
       "      <td>78.27</td>\n",
       "      <td>124.78</td>\n",
       "      <td>0.478</td>\n",
       "      <td>3.1</td>\n",
       "      <td>2009-01-01 01:30:00</td>\n",
       "    </tr>\n",
       "    <tr>\n",
       "      <th>4</th>\n",
       "      <td>0</td>\n",
       "      <td>0</td>\n",
       "      <td>0.0</td>\n",
       "      <td>4.0</td>\n",
       "      <td>1010</td>\n",
       "      <td>76.45</td>\n",
       "      <td>131.12</td>\n",
       "      <td>0.475</td>\n",
       "      <td>3.0</td>\n",
       "      <td>2009-01-01 02:00:00</td>\n",
       "    </tr>\n",
       "  </tbody>\n",
       "</table>\n",
       "</div>"
      ],
      "text/plain": [
       "   Clearsky DHI  Clearsky DNI  Dew Point  Temperature  Pressure  \\\n",
       "0             0             0        0.0          5.0      1010   \n",
       "1             0             0        1.0          5.0      1010   \n",
       "2             0             0        0.0          5.0      1010   \n",
       "3             0             0        0.0          4.0      1010   \n",
       "4             0             0        0.0          4.0      1010   \n",
       "\n",
       "   Relative Humidity  Solar Zenith Angle  Precipitable Water  Wind Speed  \\\n",
       "0              75.34              106.15               0.499         3.1   \n",
       "1              80.81              112.28               0.490         3.1   \n",
       "2              78.27              118.50               0.482         3.2   \n",
       "3              78.27              124.78               0.478         3.1   \n",
       "4              76.45              131.12               0.475         3.0   \n",
       "\n",
       "                 Date  \n",
       "0 2009-01-01 00:00:00  \n",
       "1 2009-01-01 00:30:00  \n",
       "2 2009-01-01 01:00:00  \n",
       "3 2009-01-01 01:30:00  \n",
       "4 2009-01-01 02:00:00  "
      ]
     },
     "execution_count": 5,
     "metadata": {},
     "output_type": "execute_result"
    }
   ],
   "source": [
    "drop = ['Cloud Type', 'Wind Direction', 'Fill Flag', 'Clearsky GHI']\n",
    "data = data.drop(drop, axis = 1)\n",
    "data.head()"
   ]
  },
  {
   "cell_type": "code",
   "execution_count": 6,
   "id": "c1c58c78",
   "metadata": {
    "scrolled": true
   },
   "outputs": [
    {
     "name": "stdout",
     "output_type": "stream",
     "text": [
      "<class 'pandas.core.frame.DataFrame'>\n",
      "RangeIndex: 175296 entries, 0 to 175295\n",
      "Data columns (total 10 columns):\n",
      " #   Column              Non-Null Count   Dtype         \n",
      "---  ------              --------------   -----         \n",
      " 0   Clearsky DHI        175296 non-null  int64         \n",
      " 1   Clearsky DNI        175296 non-null  int64         \n",
      " 2   Dew Point           175296 non-null  float64       \n",
      " 3   Temperature         175296 non-null  float64       \n",
      " 4   Pressure            175296 non-null  int64         \n",
      " 5   Relative Humidity   175296 non-null  float64       \n",
      " 6   Solar Zenith Angle  175296 non-null  float64       \n",
      " 7   Precipitable Water  175296 non-null  float64       \n",
      " 8   Wind Speed          175296 non-null  float64       \n",
      " 9   Date                175296 non-null  datetime64[ns]\n",
      "dtypes: datetime64[ns](1), float64(6), int64(3)\n",
      "memory usage: 13.4 MB\n"
     ]
    }
   ],
   "source": [
    "data.info()"
   ]
  },
  {
   "cell_type": "code",
   "execution_count": 7,
   "id": "a639673f",
   "metadata": {},
   "outputs": [
    {
     "data": {
      "text/html": [
       "<div>\n",
       "<style scoped>\n",
       "    .dataframe tbody tr th:only-of-type {\n",
       "        vertical-align: middle;\n",
       "    }\n",
       "\n",
       "    .dataframe tbody tr th {\n",
       "        vertical-align: top;\n",
       "    }\n",
       "\n",
       "    .dataframe thead th {\n",
       "        text-align: right;\n",
       "    }\n",
       "</style>\n",
       "<table border=\"1\" class=\"dataframe\">\n",
       "  <thead>\n",
       "    <tr style=\"text-align: right;\">\n",
       "      <th></th>\n",
       "      <th>Clearsky_DHI</th>\n",
       "      <th>Clearsky_DNI</th>\n",
       "      <th>Dew_Point</th>\n",
       "      <th>Temperature</th>\n",
       "      <th>Pressure</th>\n",
       "      <th>Relative_Humidity</th>\n",
       "      <th>Solar_Zenith_Angle</th>\n",
       "      <th>Precipitable_Water</th>\n",
       "      <th>Wind_Speed</th>\n",
       "      <th>Date</th>\n",
       "    </tr>\n",
       "  </thead>\n",
       "  <tbody>\n",
       "    <tr>\n",
       "      <th>0</th>\n",
       "      <td>0</td>\n",
       "      <td>0</td>\n",
       "      <td>0.0</td>\n",
       "      <td>5.0</td>\n",
       "      <td>1010</td>\n",
       "      <td>75.34</td>\n",
       "      <td>106.15</td>\n",
       "      <td>0.499</td>\n",
       "      <td>3.1</td>\n",
       "      <td>2009-01-01 00:00:00</td>\n",
       "    </tr>\n",
       "    <tr>\n",
       "      <th>1</th>\n",
       "      <td>0</td>\n",
       "      <td>0</td>\n",
       "      <td>1.0</td>\n",
       "      <td>5.0</td>\n",
       "      <td>1010</td>\n",
       "      <td>80.81</td>\n",
       "      <td>112.28</td>\n",
       "      <td>0.490</td>\n",
       "      <td>3.1</td>\n",
       "      <td>2009-01-01 00:30:00</td>\n",
       "    </tr>\n",
       "    <tr>\n",
       "      <th>2</th>\n",
       "      <td>0</td>\n",
       "      <td>0</td>\n",
       "      <td>0.0</td>\n",
       "      <td>5.0</td>\n",
       "      <td>1010</td>\n",
       "      <td>78.27</td>\n",
       "      <td>118.50</td>\n",
       "      <td>0.482</td>\n",
       "      <td>3.2</td>\n",
       "      <td>2009-01-01 01:00:00</td>\n",
       "    </tr>\n",
       "    <tr>\n",
       "      <th>3</th>\n",
       "      <td>0</td>\n",
       "      <td>0</td>\n",
       "      <td>0.0</td>\n",
       "      <td>4.0</td>\n",
       "      <td>1010</td>\n",
       "      <td>78.27</td>\n",
       "      <td>124.78</td>\n",
       "      <td>0.478</td>\n",
       "      <td>3.1</td>\n",
       "      <td>2009-01-01 01:30:00</td>\n",
       "    </tr>\n",
       "    <tr>\n",
       "      <th>4</th>\n",
       "      <td>0</td>\n",
       "      <td>0</td>\n",
       "      <td>0.0</td>\n",
       "      <td>4.0</td>\n",
       "      <td>1010</td>\n",
       "      <td>76.45</td>\n",
       "      <td>131.12</td>\n",
       "      <td>0.475</td>\n",
       "      <td>3.0</td>\n",
       "      <td>2009-01-01 02:00:00</td>\n",
       "    </tr>\n",
       "  </tbody>\n",
       "</table>\n",
       "</div>"
      ],
      "text/plain": [
       "   Clearsky_DHI  Clearsky_DNI  Dew_Point  Temperature  Pressure  \\\n",
       "0             0             0        0.0          5.0      1010   \n",
       "1             0             0        1.0          5.0      1010   \n",
       "2             0             0        0.0          5.0      1010   \n",
       "3             0             0        0.0          4.0      1010   \n",
       "4             0             0        0.0          4.0      1010   \n",
       "\n",
       "   Relative_Humidity  Solar_Zenith_Angle  Precipitable_Water  Wind_Speed  \\\n",
       "0              75.34              106.15               0.499         3.1   \n",
       "1              80.81              112.28               0.490         3.1   \n",
       "2              78.27              118.50               0.482         3.2   \n",
       "3              78.27              124.78               0.478         3.1   \n",
       "4              76.45              131.12               0.475         3.0   \n",
       "\n",
       "                 Date  \n",
       "0 2009-01-01 00:00:00  \n",
       "1 2009-01-01 00:30:00  \n",
       "2 2009-01-01 01:00:00  \n",
       "3 2009-01-01 01:30:00  \n",
       "4 2009-01-01 02:00:00  "
      ]
     },
     "execution_count": 7,
     "metadata": {},
     "output_type": "execute_result"
    }
   ],
   "source": [
    "data.columns = ['Clearsky_DHI', 'Clearsky_DNI', 'Dew_Point', 'Temperature','Pressure', 'Relative_Humidity', 'Solar_Zenith_Angle', 'Precipitable_Water', 'Wind_Speed', 'Date']\n",
    "data.head()"
   ]
  },
  {
   "cell_type": "code",
   "execution_count": 8,
   "id": "fd656d24",
   "metadata": {},
   "outputs": [],
   "source": [
    "data_DHI = data.drop(['Clearsky_DNI'], axis = 1)"
   ]
  },
  {
   "cell_type": "code",
   "execution_count": 9,
   "id": "8a8644f4",
   "metadata": {},
   "outputs": [],
   "source": [
    "data_DNI = data.drop(['Clearsky_DHI'], axis = 1)"
   ]
  },
  {
   "cell_type": "code",
   "execution_count": 10,
   "id": "4c77f0e2",
   "metadata": {},
   "outputs": [
    {
     "data": {
      "text/html": [
       "<div>\n",
       "<style scoped>\n",
       "    .dataframe tbody tr th:only-of-type {\n",
       "        vertical-align: middle;\n",
       "    }\n",
       "\n",
       "    .dataframe tbody tr th {\n",
       "        vertical-align: top;\n",
       "    }\n",
       "\n",
       "    .dataframe thead th {\n",
       "        text-align: right;\n",
       "    }\n",
       "</style>\n",
       "<table border=\"1\" class=\"dataframe\">\n",
       "  <thead>\n",
       "    <tr style=\"text-align: right;\">\n",
       "      <th></th>\n",
       "      <th>Clearsky_DHI</th>\n",
       "      <th>Dew_Point</th>\n",
       "      <th>Temperature</th>\n",
       "      <th>Pressure</th>\n",
       "      <th>Relative_Humidity</th>\n",
       "      <th>Solar_Zenith_Angle</th>\n",
       "      <th>Precipitable_Water</th>\n",
       "      <th>Wind_Speed</th>\n",
       "      <th>Date</th>\n",
       "    </tr>\n",
       "  </thead>\n",
       "  <tbody>\n",
       "    <tr>\n",
       "      <th>0</th>\n",
       "      <td>0</td>\n",
       "      <td>0.0</td>\n",
       "      <td>5.0</td>\n",
       "      <td>1010</td>\n",
       "      <td>75.34</td>\n",
       "      <td>106.15</td>\n",
       "      <td>0.499</td>\n",
       "      <td>3.1</td>\n",
       "      <td>2009-01-01 00:00:00</td>\n",
       "    </tr>\n",
       "    <tr>\n",
       "      <th>1</th>\n",
       "      <td>0</td>\n",
       "      <td>1.0</td>\n",
       "      <td>5.0</td>\n",
       "      <td>1010</td>\n",
       "      <td>80.81</td>\n",
       "      <td>112.28</td>\n",
       "      <td>0.490</td>\n",
       "      <td>3.1</td>\n",
       "      <td>2009-01-01 00:30:00</td>\n",
       "    </tr>\n",
       "    <tr>\n",
       "      <th>2</th>\n",
       "      <td>0</td>\n",
       "      <td>0.0</td>\n",
       "      <td>5.0</td>\n",
       "      <td>1010</td>\n",
       "      <td>78.27</td>\n",
       "      <td>118.50</td>\n",
       "      <td>0.482</td>\n",
       "      <td>3.2</td>\n",
       "      <td>2009-01-01 01:00:00</td>\n",
       "    </tr>\n",
       "    <tr>\n",
       "      <th>3</th>\n",
       "      <td>0</td>\n",
       "      <td>0.0</td>\n",
       "      <td>4.0</td>\n",
       "      <td>1010</td>\n",
       "      <td>78.27</td>\n",
       "      <td>124.78</td>\n",
       "      <td>0.478</td>\n",
       "      <td>3.1</td>\n",
       "      <td>2009-01-01 01:30:00</td>\n",
       "    </tr>\n",
       "    <tr>\n",
       "      <th>4</th>\n",
       "      <td>0</td>\n",
       "      <td>0.0</td>\n",
       "      <td>4.0</td>\n",
       "      <td>1010</td>\n",
       "      <td>76.45</td>\n",
       "      <td>131.12</td>\n",
       "      <td>0.475</td>\n",
       "      <td>3.0</td>\n",
       "      <td>2009-01-01 02:00:00</td>\n",
       "    </tr>\n",
       "  </tbody>\n",
       "</table>\n",
       "</div>"
      ],
      "text/plain": [
       "   Clearsky_DHI  Dew_Point  Temperature  Pressure  Relative_Humidity  \\\n",
       "0             0        0.0          5.0      1010              75.34   \n",
       "1             0        1.0          5.0      1010              80.81   \n",
       "2             0        0.0          5.0      1010              78.27   \n",
       "3             0        0.0          4.0      1010              78.27   \n",
       "4             0        0.0          4.0      1010              76.45   \n",
       "\n",
       "   Solar_Zenith_Angle  Precipitable_Water  Wind_Speed                Date  \n",
       "0              106.15               0.499         3.1 2009-01-01 00:00:00  \n",
       "1              112.28               0.490         3.1 2009-01-01 00:30:00  \n",
       "2              118.50               0.482         3.2 2009-01-01 01:00:00  \n",
       "3              124.78               0.478         3.1 2009-01-01 01:30:00  \n",
       "4              131.12               0.475         3.0 2009-01-01 02:00:00  "
      ]
     },
     "execution_count": 10,
     "metadata": {},
     "output_type": "execute_result"
    }
   ],
   "source": [
    "data_DHI.head()"
   ]
  },
  {
   "cell_type": "code",
   "execution_count": 11,
   "id": "7df1653d",
   "metadata": {},
   "outputs": [
    {
     "data": {
      "text/html": [
       "<div>\n",
       "<style scoped>\n",
       "    .dataframe tbody tr th:only-of-type {\n",
       "        vertical-align: middle;\n",
       "    }\n",
       "\n",
       "    .dataframe tbody tr th {\n",
       "        vertical-align: top;\n",
       "    }\n",
       "\n",
       "    .dataframe thead th {\n",
       "        text-align: right;\n",
       "    }\n",
       "</style>\n",
       "<table border=\"1\" class=\"dataframe\">\n",
       "  <thead>\n",
       "    <tr style=\"text-align: right;\">\n",
       "      <th></th>\n",
       "      <th>Clearsky_DNI</th>\n",
       "      <th>Dew_Point</th>\n",
       "      <th>Temperature</th>\n",
       "      <th>Pressure</th>\n",
       "      <th>Relative_Humidity</th>\n",
       "      <th>Solar_Zenith_Angle</th>\n",
       "      <th>Precipitable_Water</th>\n",
       "      <th>Wind_Speed</th>\n",
       "      <th>Date</th>\n",
       "    </tr>\n",
       "  </thead>\n",
       "  <tbody>\n",
       "    <tr>\n",
       "      <th>0</th>\n",
       "      <td>0</td>\n",
       "      <td>0.0</td>\n",
       "      <td>5.0</td>\n",
       "      <td>1010</td>\n",
       "      <td>75.34</td>\n",
       "      <td>106.15</td>\n",
       "      <td>0.499</td>\n",
       "      <td>3.1</td>\n",
       "      <td>2009-01-01 00:00:00</td>\n",
       "    </tr>\n",
       "    <tr>\n",
       "      <th>1</th>\n",
       "      <td>0</td>\n",
       "      <td>1.0</td>\n",
       "      <td>5.0</td>\n",
       "      <td>1010</td>\n",
       "      <td>80.81</td>\n",
       "      <td>112.28</td>\n",
       "      <td>0.490</td>\n",
       "      <td>3.1</td>\n",
       "      <td>2009-01-01 00:30:00</td>\n",
       "    </tr>\n",
       "    <tr>\n",
       "      <th>2</th>\n",
       "      <td>0</td>\n",
       "      <td>0.0</td>\n",
       "      <td>5.0</td>\n",
       "      <td>1010</td>\n",
       "      <td>78.27</td>\n",
       "      <td>118.50</td>\n",
       "      <td>0.482</td>\n",
       "      <td>3.2</td>\n",
       "      <td>2009-01-01 01:00:00</td>\n",
       "    </tr>\n",
       "    <tr>\n",
       "      <th>3</th>\n",
       "      <td>0</td>\n",
       "      <td>0.0</td>\n",
       "      <td>4.0</td>\n",
       "      <td>1010</td>\n",
       "      <td>78.27</td>\n",
       "      <td>124.78</td>\n",
       "      <td>0.478</td>\n",
       "      <td>3.1</td>\n",
       "      <td>2009-01-01 01:30:00</td>\n",
       "    </tr>\n",
       "    <tr>\n",
       "      <th>4</th>\n",
       "      <td>0</td>\n",
       "      <td>0.0</td>\n",
       "      <td>4.0</td>\n",
       "      <td>1010</td>\n",
       "      <td>76.45</td>\n",
       "      <td>131.12</td>\n",
       "      <td>0.475</td>\n",
       "      <td>3.0</td>\n",
       "      <td>2009-01-01 02:00:00</td>\n",
       "    </tr>\n",
       "  </tbody>\n",
       "</table>\n",
       "</div>"
      ],
      "text/plain": [
       "   Clearsky_DNI  Dew_Point  Temperature  Pressure  Relative_Humidity  \\\n",
       "0             0        0.0          5.0      1010              75.34   \n",
       "1             0        1.0          5.0      1010              80.81   \n",
       "2             0        0.0          5.0      1010              78.27   \n",
       "3             0        0.0          4.0      1010              78.27   \n",
       "4             0        0.0          4.0      1010              76.45   \n",
       "\n",
       "   Solar_Zenith_Angle  Precipitable_Water  Wind_Speed                Date  \n",
       "0              106.15               0.499         3.1 2009-01-01 00:00:00  \n",
       "1              112.28               0.490         3.1 2009-01-01 00:30:00  \n",
       "2              118.50               0.482         3.2 2009-01-01 01:00:00  \n",
       "3              124.78               0.478         3.1 2009-01-01 01:30:00  \n",
       "4              131.12               0.475         3.0 2009-01-01 02:00:00  "
      ]
     },
     "execution_count": 11,
     "metadata": {},
     "output_type": "execute_result"
    }
   ],
   "source": [
    "data_DNI.head()"
   ]
  },
  {
   "cell_type": "code",
   "execution_count": 12,
   "id": "9667398c",
   "metadata": {},
   "outputs": [
    {
     "data": {
      "image/png": "[encoded data removed]",
      "text/plain": [
       "<Figure size 864x720 with 2 Axes>"
      ]
     },
     "metadata": {
      "needs_background": "light"
     },
     "output_type": "display_data"
    }
   ],
   "source": [
    "plt.figure(figsize=(12, 10))\n",
    "sns.heatmap(data_DHI.corr().abs(), annot=True)\n",
    "plt.show()"
   ]
  },
  {
   "cell_type": "code",
   "execution_count": 13,
   "id": "5ad8e1ab",
   "metadata": {},
   "outputs": [
    {
     "data": {
      "image/png": "[encoded data removed]",
      "text/plain": [
       "<Figure size 864x720 with 2 Axes>"
      ]
     },
     "metadata": {
      "needs_background": "light"
     },
     "output_type": "display_data"
    }
   ],
   "source": [
    "plt.figure(figsize=(12, 10))\n",
    "sns.heatmap(data_DNI.corr().abs(), annot=True)\n",
    "plt.show()"
   ]
  },
  {
   "cell_type": "code",
   "execution_count": 14,
   "id": "e8c3b858",
   "metadata": {},
   "outputs": [
    {
     "data": {
      "text/html": [
       "<div>\n",
       "<style scoped>\n",
       "    .dataframe tbody tr th:only-of-type {\n",
       "        vertical-align: middle;\n",
       "    }\n",
       "\n",
       "    .dataframe tbody tr th {\n",
       "        vertical-align: top;\n",
       "    }\n",
       "\n",
       "    .dataframe thead th {\n",
       "        text-align: right;\n",
       "    }\n",
       "</style>\n",
       "<table border=\"1\" class=\"dataframe\">\n",
       "  <thead>\n",
       "    <tr style=\"text-align: right;\">\n",
       "      <th></th>\n",
       "      <th>Clearsky_DNI</th>\n",
       "      <th>Dew_Point</th>\n",
       "      <th>Temperature</th>\n",
       "      <th>Relative_Humidity</th>\n",
       "      <th>Solar_Zenith_Angle</th>\n",
       "      <th>Wind_Speed</th>\n",
       "      <th>Date</th>\n",
       "    </tr>\n",
       "  </thead>\n",
       "  <tbody>\n",
       "    <tr>\n",
       "      <th>0</th>\n",
       "      <td>0</td>\n",
       "      <td>0.0</td>\n",
       "      <td>5.0</td>\n",
       "      <td>75.34</td>\n",
       "      <td>106.15</td>\n",
       "      <td>3.1</td>\n",
       "      <td>2009-01-01 00:00:00</td>\n",
       "    </tr>\n",
       "    <tr>\n",
       "      <th>1</th>\n",
       "      <td>0</td>\n",
       "      <td>1.0</td>\n",
       "      <td>5.0</td>\n",
       "      <td>80.81</td>\n",
       "      <td>112.28</td>\n",
       "      <td>3.1</td>\n",
       "      <td>2009-01-01 00:30:00</td>\n",
       "    </tr>\n",
       "    <tr>\n",
       "      <th>2</th>\n",
       "      <td>0</td>\n",
       "      <td>0.0</td>\n",
       "      <td>5.0</td>\n",
       "      <td>78.27</td>\n",
       "      <td>118.50</td>\n",
       "      <td>3.2</td>\n",
       "      <td>2009-01-01 01:00:00</td>\n",
       "    </tr>\n",
       "    <tr>\n",
       "      <th>3</th>\n",
       "      <td>0</td>\n",
       "      <td>0.0</td>\n",
       "      <td>4.0</td>\n",
       "      <td>78.27</td>\n",
       "      <td>124.78</td>\n",
       "      <td>3.1</td>\n",
       "      <td>2009-01-01 01:30:00</td>\n",
       "    </tr>\n",
       "    <tr>\n",
       "      <th>4</th>\n",
       "      <td>0</td>\n",
       "      <td>0.0</td>\n",
       "      <td>4.0</td>\n",
       "      <td>76.45</td>\n",
       "      <td>131.12</td>\n",
       "      <td>3.0</td>\n",
       "      <td>2009-01-01 02:00:00</td>\n",
       "    </tr>\n",
       "  </tbody>\n",
       "</table>\n",
       "</div>"
      ],
      "text/plain": [
       "   Clearsky_DNI  Dew_Point  Temperature  Relative_Humidity  \\\n",
       "0             0        0.0          5.0              75.34   \n",
       "1             0        1.0          5.0              80.81   \n",
       "2             0        0.0          5.0              78.27   \n",
       "3             0        0.0          4.0              78.27   \n",
       "4             0        0.0          4.0              76.45   \n",
       "\n",
       "   Solar_Zenith_Angle  Wind_Speed                Date  \n",
       "0              106.15         3.1 2009-01-01 00:00:00  \n",
       "1              112.28         3.1 2009-01-01 00:30:00  \n",
       "2              118.50         3.2 2009-01-01 01:00:00  \n",
       "3              124.78         3.1 2009-01-01 01:30:00  \n",
       "4              131.12         3.0 2009-01-01 02:00:00  "
      ]
     },
     "execution_count": 14,
     "metadata": {},
     "output_type": "execute_result"
    }
   ],
   "source": [
    "data_DNI = data_DNI.drop(['Precipitable_Water', 'Pressure'], axis = 1)\n",
    "data_DNI.head()"
   ]
  },
  {
   "cell_type": "code",
   "execution_count": 15,
   "id": "6c6a01cf",
   "metadata": {},
   "outputs": [
    {
     "data": {
      "text/plain": [
       "(175296, 7)"
      ]
     },
     "execution_count": 15,
     "metadata": {},
     "output_type": "execute_result"
    }
   ],
   "source": [
    "data_DNI.shape"
   ]
  },
  {
   "cell_type": "code",
   "execution_count": 16,
   "id": "e107e92d",
   "metadata": {},
   "outputs": [
    {
     "data": {
      "text/plain": [
       "(175296, 9)"
      ]
     },
     "execution_count": 16,
     "metadata": {},
     "output_type": "execute_result"
    }
   ],
   "source": [
    "data_DHI.shape"
   ]
  },
  {
   "cell_type": "code",
   "execution_count": 17,
   "id": "72154f78",
   "metadata": {},
   "outputs": [],
   "source": [
    "X_DNI = data_DNI.drop(['Clearsky_DNI'], axis = 1)\n",
    "X_DHI = data_DHI.drop(['Clearsky_DHI'], axis = 1)\n",
    "\n",
    "y_DNI = data['Clearsky_DNI']\n",
    "y_DHI = data['Clearsky_DHI']"
   ]
  },
  {
   "cell_type": "code",
   "execution_count": 18,
   "id": "06da946c",
   "metadata": {},
   "outputs": [],
   "source": [
    "x = data['Date']\n",
    "X_DHI = data_DHI.drop(['Date'], axis = 1)\n",
    "X_DNI = data_DNI.drop(['Date'], axis = 1)"
   ]
  },
  {
   "cell_type": "code",
   "execution_count": 19,
   "id": "d9e996df",
   "metadata": {},
   "outputs": [
    {
     "data": {
      "text/plain": [
       "Index(['Clearsky_DHI', 'Dew_Point', 'Temperature', 'Pressure',\n",
       "       'Relative_Humidity', 'Solar_Zenith_Angle', 'Precipitable_Water',\n",
       "       'Wind_Speed'],\n",
       "      dtype='object')"
      ]
     },
     "execution_count": 19,
     "metadata": {},
     "output_type": "execute_result"
    }
   ],
   "source": [
    "columns_X_DHI = X_DHI.columns\n",
    "columns_X_DHI"
   ]
  },
  {
   "cell_type": "code",
   "execution_count": 20,
   "id": "03940efc",
   "metadata": {},
   "outputs": [
    {
     "data": {
      "text/plain": [
       "Index(['Clearsky_DNI', 'Dew_Point', 'Temperature', 'Relative_Humidity',\n",
       "       'Solar_Zenith_Angle', 'Wind_Speed'],\n",
       "      dtype='object')"
      ]
     },
     "execution_count": 20,
     "metadata": {},
     "output_type": "execute_result"
    }
   ],
   "source": [
    "columns_X_DNI = X_DNI.columns\n",
    "columns_X_DNI"
   ]
  },
  {
   "cell_type": "code",
   "execution_count": 21,
   "id": "20262e0e",
   "metadata": {},
   "outputs": [],
   "source": [
    "from sklearn.model_selection import train_test_split\n",
    "X_train_DNI, X_test_DNI, y_train_DNI, y_test_DNI = train_test_split(X_DNI, y_DNI, test_size = 0.25, random_state = 0)\n",
    "X_train_DHI, X_test_DHI, y_train_DHI, y_test_DHI = train_test_split(X_DHI, y_DHI, test_size = 0.25, random_state = 0)"
   ]
  },
  {
   "cell_type": "code",
   "execution_count": 22,
   "id": "0be47afd",
   "metadata": {},
   "outputs": [
    {
     "data": {
      "text/plain": [
       "((131472, 8), (131472,))"
      ]
     },
     "execution_count": 22,
     "metadata": {},
     "output_type": "execute_result"
    }
   ],
   "source": [
    "X_train_DHI.shape, y_train_DHI.shape"
   ]
  },
  {
   "cell_type": "code",
   "execution_count": 23,
   "id": "7359f5df",
   "metadata": {},
   "outputs": [
    {
     "data": {
      "text/plain": [
       "((131472, 6), (131472,))"
      ]
     },
     "execution_count": 23,
     "metadata": {},
     "output_type": "execute_result"
    }
   ],
   "source": [
    "X_train_DNI.shape, y_train_DNI.shape"
   ]
  },
  {
   "cell_type": "code",
   "execution_count": 24,
   "id": "5bc324e6",
   "metadata": {},
   "outputs": [
    {
     "data": {
      "text/plain": [
       "((43824, 8), (43824,))"
      ]
     },
     "execution_count": 24,
     "metadata": {},
     "output_type": "execute_result"
    }
   ],
   "source": [
    "X_test_DHI.shape, y_test_DHI.shape"
   ]
  },
  {
   "cell_type": "code",
   "execution_count": 25,
   "id": "63d97a53",
   "metadata": {},
   "outputs": [
    {
     "data": {
      "text/html": [
       "<div>\n",
       "<style scoped>\n",
       "    .dataframe tbody tr th:only-of-type {\n",
       "        vertical-align: middle;\n",
       "    }\n",
       "\n",
       "    .dataframe tbody tr th {\n",
       "        vertical-align: top;\n",
       "    }\n",
       "\n",
       "    .dataframe thead th {\n",
       "        text-align: right;\n",
       "    }\n",
       "</style>\n",
       "<table border=\"1\" class=\"dataframe\">\n",
       "  <thead>\n",
       "    <tr style=\"text-align: right;\">\n",
       "      <th></th>\n",
       "      <th>Clearsky_DNI</th>\n",
       "      <th>Dew_Point</th>\n",
       "      <th>Temperature</th>\n",
       "      <th>Relative_Humidity</th>\n",
       "      <th>Solar_Zenith_Angle</th>\n",
       "      <th>Wind_Speed</th>\n",
       "    </tr>\n",
       "  </thead>\n",
       "  <tbody>\n",
       "    <tr>\n",
       "      <th>0</th>\n",
       "      <td>0</td>\n",
       "      <td>0.0</td>\n",
       "      <td>5.0</td>\n",
       "      <td>75.34</td>\n",
       "      <td>106.15</td>\n",
       "      <td>3.1</td>\n",
       "    </tr>\n",
       "    <tr>\n",
       "      <th>1</th>\n",
       "      <td>0</td>\n",
       "      <td>1.0</td>\n",
       "      <td>5.0</td>\n",
       "      <td>80.81</td>\n",
       "      <td>112.28</td>\n",
       "      <td>3.1</td>\n",
       "    </tr>\n",
       "    <tr>\n",
       "      <th>2</th>\n",
       "      <td>0</td>\n",
       "      <td>0.0</td>\n",
       "      <td>5.0</td>\n",
       "      <td>78.27</td>\n",
       "      <td>118.50</td>\n",
       "      <td>3.2</td>\n",
       "    </tr>\n",
       "    <tr>\n",
       "      <th>3</th>\n",
       "      <td>0</td>\n",
       "      <td>0.0</td>\n",
       "      <td>4.0</td>\n",
       "      <td>78.27</td>\n",
       "      <td>124.78</td>\n",
       "      <td>3.1</td>\n",
       "    </tr>\n",
       "    <tr>\n",
       "      <th>4</th>\n",
       "      <td>0</td>\n",
       "      <td>0.0</td>\n",
       "      <td>4.0</td>\n",
       "      <td>76.45</td>\n",
       "      <td>131.12</td>\n",
       "      <td>3.0</td>\n",
       "    </tr>\n",
       "  </tbody>\n",
       "</table>\n",
       "</div>"
      ],
      "text/plain": [
       "   Clearsky_DNI  Dew_Point  Temperature  Relative_Humidity  \\\n",
       "0             0        0.0          5.0              75.34   \n",
       "1             0        1.0          5.0              80.81   \n",
       "2             0        0.0          5.0              78.27   \n",
       "3             0        0.0          4.0              78.27   \n",
       "4             0        0.0          4.0              76.45   \n",
       "\n",
       "   Solar_Zenith_Angle  Wind_Speed  \n",
       "0              106.15         3.1  \n",
       "1              112.28         3.1  \n",
       "2              118.50         3.2  \n",
       "3              124.78         3.1  \n",
       "4              131.12         3.0  "
      ]
     },
     "execution_count": 25,
     "metadata": {},
     "output_type": "execute_result"
    }
   ],
   "source": [
    "'''X_DHI['Date'] = pd.to_numeric(X_DHI['Date'])\n",
    "#X_DHI['Date'] = X_DHI['Date'].map(dt.datetime.toordinal)\n",
    "X_DNI['Date'] = pd.to_numeric(X_DNI['Date'])\n",
    "#X_DNI['Date'] = X_DNI['Date'].map(dt.datetime.toordinal)\n",
    "X_DNI = X_DNI.drop(['Date'], axis = 1)\n",
    "x_DHI = X_DHI.drop(['Date'], axis = 1)\n",
    "#X_DNI['Date'].info'''\n",
    "X_DNI.head()"
   ]
  },
  {
   "cell_type": "code",
   "execution_count": 26,
   "id": "25346a38",
   "metadata": {},
   "outputs": [
    {
     "data": {
      "text/html": [
       "<div>\n",
       "<style scoped>\n",
       "    .dataframe tbody tr th:only-of-type {\n",
       "        vertical-align: middle;\n",
       "    }\n",
       "\n",
       "    .dataframe tbody tr th {\n",
       "        vertical-align: top;\n",
       "    }\n",
       "\n",
       "    .dataframe thead th {\n",
       "        text-align: right;\n",
       "    }\n",
       "</style>\n",
       "<table border=\"1\" class=\"dataframe\">\n",
       "  <thead>\n",
       "    <tr style=\"text-align: right;\">\n",
       "      <th></th>\n",
       "      <th>Clearsky_DHI</th>\n",
       "      <th>Dew_Point</th>\n",
       "      <th>Temperature</th>\n",
       "      <th>Pressure</th>\n",
       "      <th>Relative_Humidity</th>\n",
       "      <th>Solar_Zenith_Angle</th>\n",
       "      <th>Precipitable_Water</th>\n",
       "      <th>Wind_Speed</th>\n",
       "    </tr>\n",
       "  </thead>\n",
       "  <tbody>\n",
       "    <tr>\n",
       "      <th>0</th>\n",
       "      <td>0</td>\n",
       "      <td>0.0</td>\n",
       "      <td>5.0</td>\n",
       "      <td>1010</td>\n",
       "      <td>75.34</td>\n",
       "      <td>106.15</td>\n",
       "      <td>0.499</td>\n",
       "      <td>3.1</td>\n",
       "    </tr>\n",
       "    <tr>\n",
       "      <th>1</th>\n",
       "      <td>0</td>\n",
       "      <td>1.0</td>\n",
       "      <td>5.0</td>\n",
       "      <td>1010</td>\n",
       "      <td>80.81</td>\n",
       "      <td>112.28</td>\n",
       "      <td>0.490</td>\n",
       "      <td>3.1</td>\n",
       "    </tr>\n",
       "    <tr>\n",
       "      <th>2</th>\n",
       "      <td>0</td>\n",
       "      <td>0.0</td>\n",
       "      <td>5.0</td>\n",
       "      <td>1010</td>\n",
       "      <td>78.27</td>\n",
       "      <td>118.50</td>\n",
       "      <td>0.482</td>\n",
       "      <td>3.2</td>\n",
       "    </tr>\n",
       "    <tr>\n",
       "      <th>3</th>\n",
       "      <td>0</td>\n",
       "      <td>0.0</td>\n",
       "      <td>4.0</td>\n",
       "      <td>1010</td>\n",
       "      <td>78.27</td>\n",
       "      <td>124.78</td>\n",
       "      <td>0.478</td>\n",
       "      <td>3.1</td>\n",
       "    </tr>\n",
       "    <tr>\n",
       "      <th>4</th>\n",
       "      <td>0</td>\n",
       "      <td>0.0</td>\n",
       "      <td>4.0</td>\n",
       "      <td>1010</td>\n",
       "      <td>76.45</td>\n",
       "      <td>131.12</td>\n",
       "      <td>0.475</td>\n",
       "      <td>3.0</td>\n",
       "    </tr>\n",
       "  </tbody>\n",
       "</table>\n",
       "</div>"
      ],
      "text/plain": [
       "   Clearsky_DHI  Dew_Point  Temperature  Pressure  Relative_Humidity  \\\n",
       "0             0        0.0          5.0      1010              75.34   \n",
       "1             0        1.0          5.0      1010              80.81   \n",
       "2             0        0.0          5.0      1010              78.27   \n",
       "3             0        0.0          4.0      1010              78.27   \n",
       "4             0        0.0          4.0      1010              76.45   \n",
       "\n",
       "   Solar_Zenith_Angle  Precipitable_Water  Wind_Speed  \n",
       "0              106.15               0.499         3.1  \n",
       "1              112.28               0.490         3.1  \n",
       "2              118.50               0.482         3.2  \n",
       "3              124.78               0.478         3.1  \n",
       "4              131.12               0.475         3.0  "
      ]
     },
     "execution_count": 26,
     "metadata": {},
     "output_type": "execute_result"
    }
   ],
   "source": [
    "X_DHI.head()"
   ]
  },
  {
   "cell_type": "code",
   "execution_count": 27,
   "id": "bf5a70ab",
   "metadata": {},
   "outputs": [
    {
     "name": "stdout",
     "output_type": "stream",
     "text": [
      "100.0\n",
      "100.0\n"
     ]
    }
   ],
   "source": [
    "from sklearn.linear_model import LinearRegression\n",
    "from sklearn.metrics import r2_score\n",
    "lin = LinearRegression()\n",
    "lin1 = LinearRegression()\n",
    "lin.fit(X_train_DNI, y_train_DNI)\n",
    "lin1.fit(X_train_DHI, y_train_DHI)\n",
    "prediction_DHI = lin1.predict(X_test_DHI)\n",
    "prediction_DNI = lin.predict(X_test_DNI)\n",
    "print(r2_score(y_test_DNI,prediction_DNI)*100)\n",
    "print(r2_score(y_test_DHI,prediction_DHI)*100)"
   ]
  },
  {
   "cell_type": "code",
   "execution_count": 28,
   "id": "31a8e9c4",
   "metadata": {},
   "outputs": [
    {
     "name": "stdout",
     "output_type": "stream",
     "text": [
      "100.0\n",
      "100.0\n"
     ]
    },
    {
     "data": {
      "text/plain": [
       "array([-1.07706499e-10,  8.90000000e+02, -1.06305822e-10, -1.08401216e-10,\n",
       "        6.69000000e+02])"
      ]
     },
     "execution_count": 28,
     "metadata": {},
     "output_type": "execute_result"
    }
   ],
   "source": [
    "\n",
    "from sklearn.preprocessing import PolynomialFeatures\n",
    "lin.fit(X_train_DNI, y_train_DNI)\n",
    "lin.fit(X_train_DHI, y_train_DHI)\n",
    "poly_regs= PolynomialFeatures(degree= 1)\n",
    "X_train_DNI_poly = poly_regs.fit_transform(X_train_DNI)\n",
    "X_train_DHI_poly = poly_regs.fit_transform(X_train_DHI)\n",
    "lin2 = LinearRegression()\n",
    "lin3 = LinearRegression()\n",
    "lin2.fit(X_train_DNI_poly, y_train_DNI)\n",
    "lin3.fit(X_train_DHI_poly, y_train_DHI)\n",
    "poly_pred_DHI = lin3.predict(poly_regs.fit_transform(X_test_DHI))\n",
    "poly_pred_DNI = lin2.predict(poly_regs.fit_transform(X_test_DNI))\n",
    "#prediction_DHI = lin.predict(X_test_DHI)\n",
    "#prediction_DNI = lin.predict(X_test_DHI)\n",
    "print(r2_score(y_test_DNI,poly_pred_DNI)*100)\n",
    "print(r2_score(y_test_DHI,poly_pred_DHI)*100)\n",
    "poly_pred_DNI[:5]"
   ]
  },
  {
   "cell_type": "code",
   "execution_count": 29,
   "id": "2c41666f",
   "metadata": {},
   "outputs": [
    {
     "data": {
      "text/plain": [
       "41050       0\n",
       "128815    890\n",
       "110180      0\n",
       "32406       0\n",
       "80479     669\n",
       "Name: Clearsky_DNI, dtype: int64"
      ]
     },
     "execution_count": 29,
     "metadata": {},
     "output_type": "execute_result"
    }
   ],
   "source": [
    "y_test_DNI[:5]"
   ]
  },
  {
   "cell_type": "code",
   "execution_count": 36,
   "id": "564300da",
   "metadata": {},
   "outputs": [],
   "source": [
    "poly_pred_DNI = poly_pred_DNI.astype(int)\n",
    "poly_pred_DHI = poly_pred_DHI.astype(int)"
   ]
  },
  {
   "cell_type": "code",
   "execution_count": 37,
   "id": "c3a58cee",
   "metadata": {},
   "outputs": [
    {
     "data": {
      "text/plain": [
       "array([  0, 890,   0,   0, 669,   0, 818,   0,   0,   0,  20,   0, 880,\n",
       "       732, 327, 822,   0,   0,   0, 753, 821,   0, 708, 925,   0, 789,\n",
       "       197,   0,   0,   0, 596, 854, 868, 475,   0,   0, 181, 742, 832,\n",
       "         0, 335,   0,   0, 884,   0,   0,   0,   0,   0, 662,   0, 834,\n",
       "         0,   0,   0,  94,   8, 933,   0,   0,   0,   0,   0,   0, 620,\n",
       "         0, 836,   0,   0,   0,   0, 472, 767,   0, 899,   0,   0, 693,\n",
       "       800,   0,   0, 552, 780, 266, 813, 545,   0, 877,   0,   0,   0,\n",
       "       538,   0,   0,   0,   0, 805,   0, 774,   0])"
      ]
     },
     "execution_count": 37,
     "metadata": {},
     "output_type": "execute_result"
    }
   ],
   "source": [
    "poly_pred_DNI[:100]"
   ]
  },
  {
   "cell_type": "code",
   "execution_count": 38,
   "id": "b2da4b7b",
   "metadata": {},
   "outputs": [
    {
     "data": {
      "text/plain": [
       "array([  0, 131,   0,   0, 215,   0, 114,   0,   0,   0,   7,   0,  98,\n",
       "       140,  55, 139,   0,   0,   0,  62, 145,   0, 126,  74,   0, 135,\n",
       "        44,   0,   0,   0, 107,  92,  84,  95,   0,   0,  70, 114, 143,\n",
       "         0,  57,   0,   0, 133,   0,   0,   0,   0,   0, 163,   0,  86,\n",
       "         0,   0,   0,  38,   5,  72,   0,   0,   0,   0,   0,   0, 113,\n",
       "         0, 131,   0,   0,   0,   0, 142, 160,   0, 107,   0,   0, 236,\n",
       "       114,   0,   0,  72, 126,  84, 134, 193,   0,  85,   0,   0,   0,\n",
       "       119,   0,   0,   0,   0, 162,   0, 109,   0])"
      ]
     },
     "execution_count": 38,
     "metadata": {},
     "output_type": "execute_result"
    }
   ],
   "source": [
    "poly_pred_DHI[:100]"
   ]
  },
  {
   "cell_type": "code",
   "execution_count": null,
   "id": "f1da04f0",
   "metadata": {},
   "outputs": [],
   "source": []
  }
 ],
 "metadata": {
  "kernelspec": {
   "display_name": "Python 3 (ipykernel)",
   "language": "python",
   "name": "python3"
  },
  "language_info": {
   "codemirror_mode": {
    "name": "ipython",
    "version": 3
   },
   "file_extension": ".py",
   "mimetype": "text/x-python",
   "name": "python",
   "nbconvert_exporter": "python",
   "pygments_lexer": "ipython3",
   "version": "3.10.2"
  }
 },
 "nbformat": 4,
 "nbformat_minor": 5
}
